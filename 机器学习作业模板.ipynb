{
 "cells": [
  {
   "cell_type": "markdown",
   "metadata": {},
   "source": [
    "**作业命名方式：**\n",
    "\n",
    "1. 作业请命名为 机器学习第几周作业；\n",
    "2. 请在开头注明姓名、学号及日期。\n",
    "\n",
    "**作业结构：**\n",
    "\n",
    "1. 问题描述；\n",
    "2. 数据的处理和展示；\n",
    "3. 问题解答，如有多个问题，请分点解答；\n",
    "4. 结论和讨论，对题目进行总结回答，并进行适当的讨论。\n",
    "\n",
    "**注意事项：**\n",
    "1. 代码中重要部分需要有注释；\n",
    "2. 如涉及计算或证明题，请使用markdown格式书写，公式书写注意规范；\n",
    "3. 如需绘制统计图表，统计图表表达的信息应清晰，请标明坐标轴含义及图表标题，并附上适当的文字说明。"
   ]
  },
  {
   "cell_type": "markdown",
   "metadata": {},
   "source": [
    "**示例**\n",
    "\n",
    "**1. 问题描述**\n",
    "\n",
    "Boston房价数据中有两个变量：dis(the weighted mean of distances to five Boston employment ccntcrs)和nox(nitrogenoxides)。\n",
    "\n",
    "做这两个变量的散点图，观察两者之间的关系，选择多项式的阶数（1，5）用nox对distance 做回归，通过训练数据MSE比较不同阶数的拟合优度，输出各阶的估计系数，结合岭回归选择合适的阶数。"
   ]
  },
  {
   "cell_type": "markdown",
   "metadata": {},
   "source": [
    "**2. 数据处理**"
   ]
  },
  {
   "cell_type": "code",
   "execution_count": 1,
   "metadata": {},
   "outputs": [],
   "source": [
    "import sklearn.datasets as datasets\n",
    "import pandas as pd\n",
    "import numpy as np\n",
    "import matplotlib.pyplot as plt\n",
    "from matplotlib.pyplot import MultipleLocator\n",
    "from sklearn.linear_model import LinearRegression,Perceptron\n",
    "from sklearn.preprocessing import PolynomialFeatures\n",
    "from sklearn.metrics import mean_squared_error,r2_score\n",
    "from sklearn.linear_model import RidgeCV\n",
    "from sklearn.model_selection import train_test_split"
   ]
  },
  {
   "cell_type": "code",
   "execution_count": 2,
   "metadata": {},
   "outputs": [],
   "source": [
    "# 载入波士顿房价数据集，提取需要的变量nox和dis\n",
    "Boston = datasets.load_boston()\n",
    "data = Boston.data\n",
    "dis=data[:,7]\n",
    "nox=data[:,4]\n",
    "# 将 x，y 分别增加一个轴，以满足 sklearn 中回归模型认可的数据\n",
    "nox = nox[:, np.newaxis]\n",
    "dis = dis[:, np.newaxis]"
   ]
  },
  {
   "cell_type": "markdown",
   "metadata": {},
   "source": [
    "**3. dis-nox散点图**"
   ]
  },
  {
   "cell_type": "code",
   "execution_count": 3,
   "metadata": {},
   "outputs": [
    {
     "data": {
      "image/png": "[encoded data removed]",
      "text/plain": [
       "<Figure size 432x288 with 1 Axes>"
      ]
     },
     "metadata": {
      "needs_background": "light"
     },
     "output_type": "display_data"
    }
   ],
   "source": [
    "plt.rcParams['font.sans-serif'] = ['SimHei']\n",
    "plt.scatter(dis,nox,marker='.') \n",
    "plt.xlabel(\"dis\")\n",
    "plt.ylabel(\"nox\")\n",
    "plt.title(\"dis-nox散点图\")\n",
    "plt.show() "
   ]
  },
  {
   "cell_type": "markdown",
   "metadata": {},
   "source": [
    "从散点图可以看出dis和nox之间存在负相关关系，并且用简单的一元线性回归模型来描述这种相关关系并不准确。"
   ]
  },
  {
   "cell_type": "markdown",
   "metadata": {},
   "source": [
    "**3. 多项式回归**\n",
    "\n",
    "输出1-5阶多项式回归训练数据的系数和拟合优度。"
   ]
  },
  {
   "cell_type": "code",
   "execution_count": 4,
   "metadata": {},
   "outputs": [],
   "source": [
    "# 数据集划分\n",
    "x_train, x_test, y_train, y_test = train_test_split(dis, nox, test_size=0.3,random_state=1)\n",
    "mse = []\n",
    "degrees = np.arange(1, 6)"
   ]
  },
  {
   "cell_type": "code",
   "execution_count": 5,
   "metadata": {},
   "outputs": [
    {
     "name": "stdout",
     "output_type": "stream",
     "text": [
      "degree = 1\n",
      "coef： [-0.04249953] [0.71795583]\n",
      " MSE = 0.005663 ,r2_score = 0.59\n",
      "--------------------------------------\n",
      "degree = 2\n",
      "coef： [-0.11159661  0.00705086] [0.84701328]\n",
      " MSE = 0.004185 ,r2_score = 0.70\n",
      "--------------------------------------\n",
      "degree = 3\n",
      "coef： [-0.17193597  0.01969892 -0.00075492] [0.92424815]\n",
      " MSE = 0.004023 ,r2_score = 0.71\n",
      "--------------------------------------\n",
      "degree = 4\n",
      "coef： [-1.66862998e-01  1.80546213e-02 -5.50399489e-04 -8.47341843e-06] [0.91933085]\n",
      " MSE = 0.004022 ,r2_score = 0.71\n",
      "--------------------------------------\n",
      "degree = 5\n",
      "coef： [ 6.61988977e-02 -8.63446531e-02  2.00627019e-02 -1.83790971e-03\n",
      "  5.93334144e-05] [0.73899244]\n",
      " MSE = 0.003959 ,r2_score = 0.71\n",
      "--------------------------------------\n"
     ]
    }
   ],
   "source": [
    "for deg in degrees:\n",
    "    # 生成多项式特征集(如根据degree=3 ,生成 [[x,x**2,x**3]] )\n",
    "    poly = PolynomialFeatures(degree=deg, include_bias=False)\n",
    "    x_train_poly = poly.fit_transform(x_train)\n",
    "    \n",
    "    # 多项式拟合\n",
    "    poly_reg = LinearRegression()\n",
    "    poly_reg.fit(x_train_poly, y_train)\n",
    "    #print(poly_reg.coef_,poly_reg.intercept_) #系数及常数\n",
    "    \n",
    "    y_train_pred = poly_reg.predict(x_train_poly)\n",
    "    \n",
    "    poly_mse = mean_squared_error(y_train, y_train_pred)\n",
    "    mse.append(poly_mse)\n",
    "    \n",
    "    r2score = r2_score(y_train, y_train_pred)\n",
    "    \n",
    "    print('degree = %s' % (deg))\n",
    "    print(\"coef：\",poly_reg.coef_[0],poly_reg.intercept_)\n",
    "    print(' MSE = %.6f ,r2_score = %.2f' % ( poly_mse,r2score))\n",
    "    print(\"--------------------------------------\")"
   ]
  },
  {
   "cell_type": "code",
   "execution_count": 6,
   "metadata": {},
   "outputs": [
    {
     "data": {
      "image/png": "[encoded data removed]",
      "text/plain": [
       "<Figure size 432x288 with 1 Axes>"
      ]
     },
     "metadata": {
      "needs_background": "light"
     },
     "output_type": "display_data"
    }
   ],
   "source": [
    "plt.rcParams['font.sans-serif'] = ['SimHei']\n",
    "plt.plot(degrees,mse,marker='.') \n",
    "plt.xlabel(\"degree\")\n",
    "plt.ylabel(\"MSE\")\n",
    "plt.title(\"训练数据MSE\")\n",
    "ax=plt.gca()\n",
    "x_major_locator=MultipleLocator(1)\n",
    "ax.xaxis.set_major_locator(x_major_locator)\n",
    "plt.show() "
   ]
  },
  {
   "cell_type": "markdown",
   "metadata": {},
   "source": [
    "训练数据的MSE会随多项式回归阶数的增加而不断降低，但是可以看出，多项式阶数为3时，再增加阶数，MSE的下降不再明显。"
   ]
  },
  {
   "cell_type": "markdown",
   "metadata": {},
   "source": [
    "**4. 岭回归**\n",
    "\n",
    "这部分将$x, x^2, x^3, x^4, x^5$视为5个输入变量，通过岭回归进行多项式阶数选择。"
   ]
  },
  {
   "cell_type": "code",
   "execution_count": 7,
   "metadata": {},
   "outputs": [
    {
     "name": "stdout",
     "output_type": "stream",
     "text": [
      "[-1.75616409e-02 -4.60412070e-02  1.17183683e-02 -1.07409512e-03\n",
      "  3.40562835e-05]\n"
     ]
    }
   ],
   "source": [
    "poly = PolynomialFeatures(degree=5, include_bias=False)\n",
    "x_train_poly = poly.fit_transform(x_train)\n",
    "clf = RidgeCV(alphas=[0.1, 1.0, 10.0])\n",
    "clf.fit(x_train_poly,y_train)\n",
    "print(clf.coef_[0])"
   ]
  },
  {
   "cell_type": "markdown",
   "metadata": {},
   "source": [
    "**5. 结论与讨论**\n",
    "\n",
    "岭回归4阶和5阶系数接近于0，结合对训练数据MSE的观察，认为选择3阶作为多项式回归的阶数最合适。"
   ]
  }
 ],
 "metadata": {
  "kernelspec": {
   "display_name": "Python 3",
   "language": "python",
   "name": "python3"
  },
  "language_info": {
   "codemirror_mode": {
    "name": "ipython",
    "version": 3
   },
   "file_extension": ".py",
   "mimetype": "text/x-python",
   "name": "python",
   "nbconvert_exporter": "python",
   "pygments_lexer": "ipython3",
   "version": "3.8.5"
  }
 },
 "nbformat": 4,
 "nbformat_minor": 4
}
